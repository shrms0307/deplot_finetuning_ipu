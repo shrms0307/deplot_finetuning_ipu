{
 "cells": [
  {
   "cell_type": "code",
   "execution_count": 12,
   "id": "5c15ffb1-248e-4c85-bfac-045926ca270a",
   "metadata": {
    "tags": []
   },
   "outputs": [
    {
     "name": "stderr",
     "output_type": "stream",
     "text": [
      "huggingface/tokenizers: The current process just got forked, after parallelism has already been used. Disabling parallelism to avoid deadlocks...\n",
      "To disable this warning, you can either:\n",
      "\t- Avoid using `tokenizers` before the fork if possible\n",
      "\t- Explicitly set the environment variable TOKENIZERS_PARALLELISM=(true | false)\n"
     ]
    },
    {
     "name": "stdout",
     "output_type": "stream",
     "text": [
      "Defaulting to user installation because normal site-packages is not writeable\n",
      "Collecting graphcore-cloud-tools[logger]@ git+https://github.com/graphcore/graphcore-cloud-tools@v0.3\n",
      "  Cloning https://github.com/graphcore/graphcore-cloud-tools (to revision v0.3) to /tmp/pip-install-l_e9ipix/graphcore-cloud-tools_aeed2bb0efea48cfa68b46d2b3f5f7f3\n",
      "  Running command git clone --filter=blob:none --quiet https://github.com/graphcore/graphcore-cloud-tools /tmp/pip-install-l_e9ipix/graphcore-cloud-tools_aeed2bb0efea48cfa68b46d2b3f5f7f3\n",
      "  Running command git checkout -q 0af1fc805cfb8f93fe2e2407e32bfeff2dce1f55\n",
      "  Resolved https://github.com/graphcore/graphcore-cloud-tools to commit 0af1fc805cfb8f93fe2e2407e32bfeff2dce1f55\n",
      "  Preparing metadata (setup.py) ... \u001b[?25ldone\n",
      "\u001b[?25hRequirement already satisfied: torch==1.13.1 in /home/work/.local/lib/python3.8/site-packages (from -r requirements.txt (line 1)) (1.13.1)\n",
      "Requirement already satisfied: torchsummary in /home/work/.local/lib/python3.8/site-packages (from -r requirements.txt (line 2)) (1.5.1)\n",
      "Requirement already satisfied: torchvision in /home/work/.local/lib/python3.8/site-packages (from -r requirements.txt (line 3)) (0.14.1)\n",
      "Requirement already satisfied: jupyter in /usr/local/lib/python3.8/dist-packages (from -r requirements.txt (line 4)) (1.0.0)\n",
      "Requirement already satisfied: jedi==0.17.2 in /home/work/.local/lib/python3.8/site-packages (from -r requirements.txt (line 5)) (0.17.2)\n",
      "Requirement already satisfied: tenacity==8.2.2 in /home/work/.local/lib/python3.8/site-packages (from -r requirements.txt (line 6)) (8.2.2)\n",
      "Requirement already satisfied: tqdm in /usr/local/lib/python3.8/dist-packages (from -r requirements.txt (line 7)) (4.65.0)\n",
      "Collecting transformers==4.10.2\n",
      "  Using cached transformers-4.10.2-py3-none-any.whl (2.8 MB)\n",
      "Requirement already satisfied: datasets in /home/work/.local/lib/python3.8/site-packages (from -r requirements.txt (line 9)) (2.19.1)\n",
      "Requirement already satisfied: matplotlib in /home/work/.local/lib/python3.8/site-packages (from -r requirements.txt (line 11)) (3.7.5)\n",
      "Requirement already satisfied: nvidia-cudnn-cu11==8.5.0.96 in /home/work/.local/lib/python3.8/site-packages (from torch==1.13.1->-r requirements.txt (line 1)) (8.5.0.96)\n",
      "Requirement already satisfied: nvidia-cuda-runtime-cu11==11.7.99 in /home/work/.local/lib/python3.8/site-packages (from torch==1.13.1->-r requirements.txt (line 1)) (11.7.99)\n",
      "Requirement already satisfied: nvidia-cublas-cu11==11.10.3.66 in /home/work/.local/lib/python3.8/site-packages (from torch==1.13.1->-r requirements.txt (line 1)) (11.10.3.66)\n",
      "Requirement already satisfied: typing-extensions in /home/work/.local/lib/python3.8/site-packages (from torch==1.13.1->-r requirements.txt (line 1)) (4.1.1)\n",
      "Requirement already satisfied: nvidia-cuda-nvrtc-cu11==11.7.99 in /home/work/.local/lib/python3.8/site-packages (from torch==1.13.1->-r requirements.txt (line 1)) (11.7.99)\n",
      "Requirement already satisfied: parso<0.8.0,>=0.7.0 in /home/work/.local/lib/python3.8/site-packages (from jedi==0.17.2->-r requirements.txt (line 5)) (0.7.1)\n",
      "Requirement already satisfied: numpy>=1.17 in /usr/local/lib/python3.8/dist-packages (from transformers==4.10.2->-r requirements.txt (line 8)) (1.24.4)\n",
      "Requirement already satisfied: pyyaml>=5.1 in /usr/local/lib/python3.8/dist-packages (from transformers==4.10.2->-r requirements.txt (line 8)) (6.0.1)\n",
      "Requirement already satisfied: sacremoses in /home/work/.local/lib/python3.8/site-packages (from transformers==4.10.2->-r requirements.txt (line 8)) (0.1.1)\n",
      "Collecting tokenizers<0.11,>=0.10.1\n",
      "  Using cached tokenizers-0.10.3-cp38-cp38-manylinux_2_5_x86_64.manylinux1_x86_64.manylinux_2_12_x86_64.manylinux2010_x86_64.whl (3.3 MB)\n",
      "Requirement already satisfied: regex!=2019.12.17 in /home/work/.local/lib/python3.8/site-packages (from transformers==4.10.2->-r requirements.txt (line 8)) (2024.4.28)\n",
      "Requirement already satisfied: packaging in /usr/local/lib/python3.8/dist-packages (from transformers==4.10.2->-r requirements.txt (line 8)) (23.1)\n",
      "Requirement already satisfied: filelock in /usr/local/lib/python3.8/dist-packages (from transformers==4.10.2->-r requirements.txt (line 8)) (3.12.2)\n",
      "Requirement already satisfied: requests in /usr/local/lib/python3.8/dist-packages (from transformers==4.10.2->-r requirements.txt (line 8)) (2.31.0)\n",
      "Requirement already satisfied: huggingface-hub>=0.0.12 in /home/work/.local/lib/python3.8/site-packages (from transformers==4.10.2->-r requirements.txt (line 8)) (0.23.0)\n",
      "Requirement already satisfied: wheel in /usr/lib/python3/dist-packages (from nvidia-cublas-cu11==11.10.3.66->torch==1.13.1->-r requirements.txt (line 1)) (0.34.2)\n",
      "Requirement already satisfied: setuptools in /home/work/.local/lib/python3.8/site-packages (from nvidia-cublas-cu11==11.10.3.66->torch==1.13.1->-r requirements.txt (line 1)) (58.0.4)\n",
      "Requirement already satisfied: pillow!=8.3.*,>=5.3.0 in /usr/local/lib/python3.8/dist-packages (from torchvision->-r requirements.txt (line 3)) (10.0.0)\n",
      "Requirement already satisfied: nbconvert in /home/work/.local/lib/python3.8/site-packages (from jupyter->-r requirements.txt (line 4)) (7.2.9)\n",
      "Requirement already satisfied: ipykernel in /usr/local/lib/python3.8/dist-packages (from jupyter->-r requirements.txt (line 4)) (6.25.1)\n",
      "Requirement already satisfied: jupyter-console in /usr/local/lib/python3.8/dist-packages (from jupyter->-r requirements.txt (line 4)) (6.6.3)\n",
      "Requirement already satisfied: ipywidgets in /usr/local/lib/python3.8/dist-packages (from jupyter->-r requirements.txt (line 4)) (8.1.0)\n",
      "Requirement already satisfied: notebook in /usr/local/lib/python3.8/dist-packages (from jupyter->-r requirements.txt (line 4)) (6.5.5)\n",
      "Requirement already satisfied: qtconsole in /usr/local/lib/python3.8/dist-packages (from jupyter->-r requirements.txt (line 4)) (5.4.3)\n",
      "Requirement already satisfied: multiprocess in /home/work/.local/lib/python3.8/site-packages (from datasets->-r requirements.txt (line 9)) (0.70.16)\n",
      "Requirement already satisfied: fsspec[http]<=2024.3.1,>=2023.1.0 in /usr/local/lib/python3.8/dist-packages (from datasets->-r requirements.txt (line 9)) (2023.6.0)\n",
      "Requirement already satisfied: dill<0.3.9,>=0.3.0 in /home/work/.local/lib/python3.8/site-packages (from datasets->-r requirements.txt (line 9)) (0.3.8)\n",
      "Requirement already satisfied: xxhash in /home/work/.local/lib/python3.8/site-packages (from datasets->-r requirements.txt (line 9)) (3.4.1)\n",
      "Requirement already satisfied: aiohttp in /usr/local/lib/python3.8/dist-packages (from datasets->-r requirements.txt (line 9)) (3.8.5)\n",
      "Requirement already satisfied: pyarrow-hotfix in /home/work/.local/lib/python3.8/site-packages (from datasets->-r requirements.txt (line 9)) (0.6)\n",
      "Requirement already satisfied: pyarrow>=12.0.0 in /home/work/.local/lib/python3.8/site-packages (from datasets->-r requirements.txt (line 9)) (16.0.0)\n",
      "Requirement already satisfied: pandas in /home/work/.local/lib/python3.8/site-packages (from datasets->-r requirements.txt (line 9)) (2.0.1)\n",
      "Requirement already satisfied: awscli>=1.24.10 in /home/work/.local/lib/python3.8/site-packages (from graphcore-cloud-tools[logger]@ git+https://github.com/graphcore/graphcore-cloud-tools@v0.3->-r requirements.txt (line 10)) (1.32.100)\n",
      "Requirement already satisfied: boto3>=1.26 in /home/work/.local/lib/python3.8/site-packages (from graphcore-cloud-tools[logger]@ git+https://github.com/graphcore/graphcore-cloud-tools@v0.3->-r requirements.txt (line 10)) (1.34.100)\n",
      "Requirement already satisfied: ipynbname>=2021.3.2 in /home/work/.local/lib/python3.8/site-packages (from graphcore-cloud-tools[logger]@ git+https://github.com/graphcore/graphcore-cloud-tools@v0.3->-r requirements.txt (line 10)) (2024.1.0.0)\n",
      "Requirement already satisfied: nbformat>=5.7.3 in /home/work/.local/lib/python3.8/site-packages (from graphcore-cloud-tools[logger]@ git+https://github.com/graphcore/graphcore-cloud-tools@v0.3->-r requirements.txt (line 10)) (5.7.3)\n",
      "Requirement already satisfied: contourpy>=1.0.1 in /usr/local/lib/python3.8/dist-packages (from matplotlib->-r requirements.txt (line 11)) (1.1.0)\n",
      "Requirement already satisfied: importlib-resources>=3.2.0 in /usr/local/lib/python3.8/dist-packages (from matplotlib->-r requirements.txt (line 11)) (6.0.1)\n",
      "Requirement already satisfied: fonttools>=4.22.0 in /home/work/.local/lib/python3.8/site-packages (from matplotlib->-r requirements.txt (line 11)) (4.51.0)\n",
      "Requirement already satisfied: pyparsing>=2.3.1 in /home/work/.local/lib/python3.8/site-packages (from matplotlib->-r requirements.txt (line 11)) (3.1.2)\n",
      "Requirement already satisfied: python-dateutil>=2.7 in /usr/local/lib/python3.8/dist-packages (from matplotlib->-r requirements.txt (line 11)) (2.8.2)\n",
      "Requirement already satisfied: cycler>=0.10 in /home/work/.local/lib/python3.8/site-packages (from matplotlib->-r requirements.txt (line 11)) (0.12.1)\n",
      "Requirement already satisfied: kiwisolver>=1.0.1 in /home/work/.local/lib/python3.8/site-packages (from matplotlib->-r requirements.txt (line 11)) (1.4.5)\n",
      "Requirement already satisfied: botocore==1.34.100 in /home/work/.local/lib/python3.8/site-packages (from awscli>=1.24.10->graphcore-cloud-tools[logger]@ git+https://github.com/graphcore/graphcore-cloud-tools@v0.3->-r requirements.txt (line 10)) (1.34.100)\n",
      "Requirement already satisfied: colorama<0.4.7,>=0.2.5 in /usr/local/lib/python3.8/dist-packages (from awscli>=1.24.10->graphcore-cloud-tools[logger]@ git+https://github.com/graphcore/graphcore-cloud-tools@v0.3->-r requirements.txt (line 10)) (0.4.6)\n",
      "Requirement already satisfied: docutils<0.17,>=0.10 in /home/work/.local/lib/python3.8/site-packages (from awscli>=1.24.10->graphcore-cloud-tools[logger]@ git+https://github.com/graphcore/graphcore-cloud-tools@v0.3->-r requirements.txt (line 10)) (0.16)\n",
      "Requirement already satisfied: s3transfer<0.11.0,>=0.10.0 in /home/work/.local/lib/python3.8/site-packages (from awscli>=1.24.10->graphcore-cloud-tools[logger]@ git+https://github.com/graphcore/graphcore-cloud-tools@v0.3->-r requirements.txt (line 10)) (0.10.1)\n",
      "Requirement already satisfied: rsa<4.8,>=3.1.2 in /home/work/.local/lib/python3.8/site-packages (from awscli>=1.24.10->graphcore-cloud-tools[logger]@ git+https://github.com/graphcore/graphcore-cloud-tools@v0.3->-r requirements.txt (line 10)) (4.7.2)\n",
      "Requirement already satisfied: urllib3<1.27,>=1.25.4 in /usr/local/lib/python3.8/dist-packages (from botocore==1.34.100->awscli>=1.24.10->graphcore-cloud-tools[logger]@ git+https://github.com/graphcore/graphcore-cloud-tools@v0.3->-r requirements.txt (line 10)) (1.26.16)\n",
      "Requirement already satisfied: jmespath<2.0.0,>=0.7.1 in /home/work/.local/lib/python3.8/site-packages (from botocore==1.34.100->awscli>=1.24.10->graphcore-cloud-tools[logger]@ git+https://github.com/graphcore/graphcore-cloud-tools@v0.3->-r requirements.txt (line 10)) (1.0.1)\n",
      "Requirement already satisfied: frozenlist>=1.1.1 in /usr/local/lib/python3.8/dist-packages (from aiohttp->datasets->-r requirements.txt (line 9)) (1.4.0)\n",
      "Requirement already satisfied: async-timeout<5.0,>=4.0.0a3 in /usr/local/lib/python3.8/dist-packages (from aiohttp->datasets->-r requirements.txt (line 9)) (4.0.3)\n",
      "Requirement already satisfied: attrs>=17.3.0 in /usr/local/lib/python3.8/dist-packages (from aiohttp->datasets->-r requirements.txt (line 9)) (23.1.0)\n",
      "Requirement already satisfied: yarl<2.0,>=1.0 in /usr/local/lib/python3.8/dist-packages (from aiohttp->datasets->-r requirements.txt (line 9)) (1.9.2)\n",
      "Requirement already satisfied: multidict<7.0,>=4.5 in /usr/local/lib/python3.8/dist-packages (from aiohttp->datasets->-r requirements.txt (line 9)) (6.0.4)\n",
      "Requirement already satisfied: charset-normalizer<4.0,>=2.0 in /usr/local/lib/python3.8/dist-packages (from aiohttp->datasets->-r requirements.txt (line 9)) (3.2.0)\n",
      "Requirement already satisfied: aiosignal>=1.1.2 in /usr/local/lib/python3.8/dist-packages (from aiohttp->datasets->-r requirements.txt (line 9)) (1.3.1)\n",
      "Requirement already satisfied: zipp>=3.1.0 in /usr/local/lib/python3.8/dist-packages (from importlib-resources>=3.2.0->matplotlib->-r requirements.txt (line 11)) (3.16.2)\n",
      "Requirement already satisfied: jsonschema>=2.6 in /usr/local/lib/python3.8/dist-packages (from nbformat>=5.7.3->graphcore-cloud-tools[logger]@ git+https://github.com/graphcore/graphcore-cloud-tools@v0.3->-r requirements.txt (line 10)) (4.19.0)\n",
      "Requirement already satisfied: traitlets>=5.1 in /usr/local/lib/python3.8/dist-packages (from nbformat>=5.7.3->graphcore-cloud-tools[logger]@ git+https://github.com/graphcore/graphcore-cloud-tools@v0.3->-r requirements.txt (line 10)) (5.9.0)\n",
      "Requirement already satisfied: jupyter-core in /usr/local/lib/python3.8/dist-packages (from nbformat>=5.7.3->graphcore-cloud-tools[logger]@ git+https://github.com/graphcore/graphcore-cloud-tools@v0.3->-r requirements.txt (line 10)) (5.3.1)\n",
      "Requirement already satisfied: fastjsonschema in /usr/local/lib/python3.8/dist-packages (from nbformat>=5.7.3->graphcore-cloud-tools[logger]@ git+https://github.com/graphcore/graphcore-cloud-tools@v0.3->-r requirements.txt (line 10)) (2.18.0)\n",
      "Requirement already satisfied: six>=1.5 in /usr/local/lib/python3.8/dist-packages (from python-dateutil>=2.7->matplotlib->-r requirements.txt (line 11)) (1.16.0)\n",
      "Requirement already satisfied: idna<4,>=2.5 in /usr/local/lib/python3.8/dist-packages (from requests->transformers==4.10.2->-r requirements.txt (line 8)) (3.4)\n",
      "Requirement already satisfied: certifi>=2017.4.17 in /usr/local/lib/python3.8/dist-packages (from requests->transformers==4.10.2->-r requirements.txt (line 8)) (2023.7.22)\n",
      "Requirement already satisfied: pyzmq>=20 in /usr/local/lib/python3.8/dist-packages (from ipykernel->jupyter->-r requirements.txt (line 4)) (24.0.1)\n",
      "Requirement already satisfied: jupyter-client>=6.1.12 in /usr/local/lib/python3.8/dist-packages (from ipykernel->jupyter->-r requirements.txt (line 4)) (7.4.9)\n",
      "Requirement already satisfied: nest-asyncio in /usr/local/lib/python3.8/dist-packages (from ipykernel->jupyter->-r requirements.txt (line 4)) (1.5.7)\n",
      "Requirement already satisfied: ipython>=7.23.1 in /usr/local/lib/python3.8/dist-packages (from ipykernel->jupyter->-r requirements.txt (line 4)) (8.12.2)\n",
      "Requirement already satisfied: comm>=0.1.1 in /usr/local/lib/python3.8/dist-packages (from ipykernel->jupyter->-r requirements.txt (line 4)) (0.1.4)\n",
      "Requirement already satisfied: matplotlib-inline>=0.1 in /usr/local/lib/python3.8/dist-packages (from ipykernel->jupyter->-r requirements.txt (line 4)) (0.1.6)\n",
      "Requirement already satisfied: debugpy>=1.6.5 in /usr/local/lib/python3.8/dist-packages (from ipykernel->jupyter->-r requirements.txt (line 4)) (1.6.7.post1)\n",
      "Requirement already satisfied: tornado>=6.1 in /usr/local/lib/python3.8/dist-packages (from ipykernel->jupyter->-r requirements.txt (line 4)) (6.3.3)\n",
      "Requirement already satisfied: psutil in /usr/local/lib/python3.8/dist-packages (from ipykernel->jupyter->-r requirements.txt (line 4)) (5.9.5)\n",
      "Requirement already satisfied: jupyterlab-widgets~=3.0.7 in /usr/local/lib/python3.8/dist-packages (from ipywidgets->jupyter->-r requirements.txt (line 4)) (3.0.8)\n",
      "Requirement already satisfied: widgetsnbextension~=4.0.7 in /usr/local/lib/python3.8/dist-packages (from ipywidgets->jupyter->-r requirements.txt (line 4)) (4.0.8)\n",
      "Requirement already satisfied: prompt-toolkit>=3.0.30 in /usr/local/lib/python3.8/dist-packages (from jupyter-console->jupyter->-r requirements.txt (line 4)) (3.0.39)\n",
      "Requirement already satisfied: pygments in /usr/local/lib/python3.8/dist-packages (from jupyter-console->jupyter->-r requirements.txt (line 4)) (2.16.1)\n",
      "Requirement already satisfied: pandocfilters>=1.4.1 in /usr/local/lib/python3.8/dist-packages (from nbconvert->jupyter->-r requirements.txt (line 4)) (1.5.0)\n",
      "Requirement already satisfied: mistune<3,>=2.0.3 in /home/work/.local/lib/python3.8/site-packages (from nbconvert->jupyter->-r requirements.txt (line 4)) (2.0.5)\n",
      "Requirement already satisfied: importlib-metadata>=3.6 in /usr/local/lib/python3.8/dist-packages (from nbconvert->jupyter->-r requirements.txt (line 4)) (6.8.0)\n",
      "Requirement already satisfied: jinja2>=3.0 in /usr/local/lib/python3.8/dist-packages (from nbconvert->jupyter->-r requirements.txt (line 4)) (3.1.2)\n",
      "Requirement already satisfied: markupsafe>=2.0 in /usr/local/lib/python3.8/dist-packages (from nbconvert->jupyter->-r requirements.txt (line 4)) (2.1.3)\n",
      "Requirement already satisfied: tinycss2 in /usr/local/lib/python3.8/dist-packages (from nbconvert->jupyter->-r requirements.txt (line 4)) (1.2.1)\n",
      "Requirement already satisfied: beautifulsoup4 in /usr/local/lib/python3.8/dist-packages (from nbconvert->jupyter->-r requirements.txt (line 4)) (4.12.2)\n",
      "Requirement already satisfied: nbclient>=0.5.0 in /usr/local/lib/python3.8/dist-packages (from nbconvert->jupyter->-r requirements.txt (line 4)) (0.8.0)\n",
      "Requirement already satisfied: jupyterlab-pygments in /usr/local/lib/python3.8/dist-packages (from nbconvert->jupyter->-r requirements.txt (line 4)) (0.2.2)\n",
      "Requirement already satisfied: bleach in /usr/local/lib/python3.8/dist-packages (from nbconvert->jupyter->-r requirements.txt (line 4)) (6.0.0)\n",
      "Requirement already satisfied: defusedxml in /usr/local/lib/python3.8/dist-packages (from nbconvert->jupyter->-r requirements.txt (line 4)) (0.7.1)\n",
      "Requirement already satisfied: Send2Trash>=1.8.0 in /usr/local/lib/python3.8/dist-packages (from notebook->jupyter->-r requirements.txt (line 4)) (1.8.2)\n",
      "Requirement already satisfied: prometheus-client in /usr/local/lib/python3.8/dist-packages (from notebook->jupyter->-r requirements.txt (line 4)) (0.17.1)\n",
      "Requirement already satisfied: ipython-genutils in /usr/local/lib/python3.8/dist-packages (from notebook->jupyter->-r requirements.txt (line 4)) (0.2.0)\n",
      "Requirement already satisfied: nbclassic>=0.4.7 in /usr/local/lib/python3.8/dist-packages (from notebook->jupyter->-r requirements.txt (line 4)) (1.0.0)\n",
      "Requirement already satisfied: terminado>=0.8.3 in /usr/local/lib/python3.8/dist-packages (from notebook->jupyter->-r requirements.txt (line 4)) (0.17.1)\n",
      "Requirement already satisfied: argon2-cffi in /usr/local/lib/python3.8/dist-packages (from notebook->jupyter->-r requirements.txt (line 4)) (23.1.0)\n",
      "Requirement already satisfied: pytz>=2020.1 in /usr/local/lib/python3.8/dist-packages (from pandas->datasets->-r requirements.txt (line 9)) (2023.3)\n",
      "Requirement already satisfied: tzdata>=2022.1 in /usr/local/lib/python3.8/dist-packages (from pandas->datasets->-r requirements.txt (line 9)) (2023.3)\n",
      "Requirement already satisfied: qtpy>=2.0.1 in /usr/local/lib/python3.8/dist-packages (from qtconsole->jupyter->-r requirements.txt (line 4)) (2.3.1)\n",
      "Requirement already satisfied: joblib in /usr/local/lib/python3.8/dist-packages (from sacremoses->transformers==4.10.2->-r requirements.txt (line 8)) (1.3.2)\n",
      "Requirement already satisfied: click in /usr/local/lib/python3.8/dist-packages (from sacremoses->transformers==4.10.2->-r requirements.txt (line 8)) (8.1.7)\n",
      "Requirement already satisfied: pickleshare in /usr/local/lib/python3.8/dist-packages (from ipython>=7.23.1->ipykernel->jupyter->-r requirements.txt (line 4)) (0.7.5)\n",
      "Requirement already satisfied: stack-data in /usr/local/lib/python3.8/dist-packages (from ipython>=7.23.1->ipykernel->jupyter->-r requirements.txt (line 4)) (0.6.2)\n",
      "Requirement already satisfied: pexpect>4.3 in /usr/local/lib/python3.8/dist-packages (from ipython>=7.23.1->ipykernel->jupyter->-r requirements.txt (line 4)) (4.8.0)\n",
      "Requirement already satisfied: decorator in /usr/local/lib/python3.8/dist-packages (from ipython>=7.23.1->ipykernel->jupyter->-r requirements.txt (line 4)) (5.1.1)\n",
      "Requirement already satisfied: backcall in /usr/local/lib/python3.8/dist-packages (from ipython>=7.23.1->ipykernel->jupyter->-r requirements.txt (line 4)) (0.2.0)\n",
      "Requirement already satisfied: referencing>=0.28.4 in /usr/local/lib/python3.8/dist-packages (from jsonschema>=2.6->nbformat>=5.7.3->graphcore-cloud-tools[logger]@ git+https://github.com/graphcore/graphcore-cloud-tools@v0.3->-r requirements.txt (line 10)) (0.30.2)\n",
      "Requirement already satisfied: jsonschema-specifications>=2023.03.6 in /usr/local/lib/python3.8/dist-packages (from jsonschema>=2.6->nbformat>=5.7.3->graphcore-cloud-tools[logger]@ git+https://github.com/graphcore/graphcore-cloud-tools@v0.3->-r requirements.txt (line 10)) (2023.7.1)\n",
      "Requirement already satisfied: rpds-py>=0.7.1 in /usr/local/lib/python3.8/dist-packages (from jsonschema>=2.6->nbformat>=5.7.3->graphcore-cloud-tools[logger]@ git+https://github.com/graphcore/graphcore-cloud-tools@v0.3->-r requirements.txt (line 10)) (0.9.2)\n",
      "Requirement already satisfied: pkgutil-resolve-name>=1.3.10 in /usr/local/lib/python3.8/dist-packages (from jsonschema>=2.6->nbformat>=5.7.3->graphcore-cloud-tools[logger]@ git+https://github.com/graphcore/graphcore-cloud-tools@v0.3->-r requirements.txt (line 10)) (1.3.10)\n",
      "Requirement already satisfied: entrypoints in /usr/local/lib/python3.8/dist-packages (from jupyter-client>=6.1.12->ipykernel->jupyter->-r requirements.txt (line 4)) (0.4)\n",
      "Requirement already satisfied: platformdirs>=2.5 in /usr/local/lib/python3.8/dist-packages (from jupyter-core->nbformat>=5.7.3->graphcore-cloud-tools[logger]@ git+https://github.com/graphcore/graphcore-cloud-tools@v0.3->-r requirements.txt (line 10)) (3.10.0)\n",
      "Requirement already satisfied: notebook-shim>=0.2.3 in /usr/local/lib/python3.8/dist-packages (from nbclassic>=0.4.7->notebook->jupyter->-r requirements.txt (line 4)) (0.2.3)\n",
      "Requirement already satisfied: jupyter-server>=1.8 in /usr/local/lib/python3.8/dist-packages (from nbclassic>=0.4.7->notebook->jupyter->-r requirements.txt (line 4)) (2.7.2)\n",
      "Requirement already satisfied: wcwidth in /usr/local/lib/python3.8/dist-packages (from prompt-toolkit>=3.0.30->jupyter-console->jupyter->-r requirements.txt (line 4)) (0.2.6)\n",
      "Requirement already satisfied: pyasn1>=0.1.3 in /home/work/.local/lib/python3.8/site-packages (from rsa<4.8,>=3.1.2->awscli>=1.24.10->graphcore-cloud-tools[logger]@ git+https://github.com/graphcore/graphcore-cloud-tools@v0.3->-r requirements.txt (line 10)) (0.6.0)\n",
      "Requirement already satisfied: ptyprocess in /usr/local/lib/python3.8/dist-packages (from terminado>=0.8.3->notebook->jupyter->-r requirements.txt (line 4)) (0.7.0)\n",
      "Requirement already satisfied: argon2-cffi-bindings in /usr/local/lib/python3.8/dist-packages (from argon2-cffi->notebook->jupyter->-r requirements.txt (line 4)) (21.2.0)\n",
      "Requirement already satisfied: soupsieve>1.2 in /usr/local/lib/python3.8/dist-packages (from beautifulsoup4->nbconvert->jupyter->-r requirements.txt (line 4)) (2.4.1)\n",
      "Requirement already satisfied: webencodings in /usr/local/lib/python3.8/dist-packages (from bleach->nbconvert->jupyter->-r requirements.txt (line 4)) (0.5.1)\n",
      "Requirement already satisfied: overrides in /usr/local/lib/python3.8/dist-packages (from jupyter-server>=1.8->nbclassic>=0.4.7->notebook->jupyter->-r requirements.txt (line 4)) (7.4.0)\n",
      "Requirement already satisfied: anyio>=3.1.0 in /usr/local/lib/python3.8/dist-packages (from jupyter-server>=1.8->nbclassic>=0.4.7->notebook->jupyter->-r requirements.txt (line 4)) (3.7.1)\n",
      "Requirement already satisfied: websocket-client in /usr/local/lib/python3.8/dist-packages (from jupyter-server>=1.8->nbclassic>=0.4.7->notebook->jupyter->-r requirements.txt (line 4)) (1.6.2)\n",
      "Requirement already satisfied: jupyter-server-terminals in /usr/local/lib/python3.8/dist-packages (from jupyter-server>=1.8->nbclassic>=0.4.7->notebook->jupyter->-r requirements.txt (line 4)) (0.4.4)\n",
      "Requirement already satisfied: jupyter-events>=0.6.0 in /usr/local/lib/python3.8/dist-packages (from jupyter-server>=1.8->nbclassic>=0.4.7->notebook->jupyter->-r requirements.txt (line 4)) (0.7.0)\n",
      "Requirement already satisfied: cffi>=1.0.1 in /usr/local/lib/python3.8/dist-packages (from argon2-cffi-bindings->argon2-cffi->notebook->jupyter->-r requirements.txt (line 4)) (1.15.1)\n",
      "Requirement already satisfied: executing>=1.2.0 in /usr/local/lib/python3.8/dist-packages (from stack-data->ipython>=7.23.1->ipykernel->jupyter->-r requirements.txt (line 4)) (1.2.0)\n",
      "Requirement already satisfied: pure-eval in /usr/local/lib/python3.8/dist-packages (from stack-data->ipython>=7.23.1->ipykernel->jupyter->-r requirements.txt (line 4)) (0.2.2)\n",
      "Requirement already satisfied: asttokens>=2.1.0 in /usr/local/lib/python3.8/dist-packages (from stack-data->ipython>=7.23.1->ipykernel->jupyter->-r requirements.txt (line 4)) (2.2.1)\n",
      "Requirement already satisfied: exceptiongroup in /usr/local/lib/python3.8/dist-packages (from anyio>=3.1.0->jupyter-server>=1.8->nbclassic>=0.4.7->notebook->jupyter->-r requirements.txt (line 4)) (1.1.3)\n",
      "Requirement already satisfied: sniffio>=1.1 in /usr/local/lib/python3.8/dist-packages (from anyio>=3.1.0->jupyter-server>=1.8->nbclassic>=0.4.7->notebook->jupyter->-r requirements.txt (line 4)) (1.3.0)\n",
      "Requirement already satisfied: pycparser in /usr/local/lib/python3.8/dist-packages (from cffi>=1.0.1->argon2-cffi-bindings->argon2-cffi->notebook->jupyter->-r requirements.txt (line 4)) (2.21)\n",
      "Requirement already satisfied: python-json-logger>=2.0.4 in /usr/local/lib/python3.8/dist-packages (from jupyter-events>=0.6.0->jupyter-server>=1.8->nbclassic>=0.4.7->notebook->jupyter->-r requirements.txt (line 4)) (2.0.7)\n",
      "Requirement already satisfied: rfc3986-validator>=0.1.1 in /usr/local/lib/python3.8/dist-packages (from jupyter-events>=0.6.0->jupyter-server>=1.8->nbclassic>=0.4.7->notebook->jupyter->-r requirements.txt (line 4)) (0.1.1)\n",
      "Requirement already satisfied: rfc3339-validator in /usr/local/lib/python3.8/dist-packages (from jupyter-events>=0.6.0->jupyter-server>=1.8->nbclassic>=0.4.7->notebook->jupyter->-r requirements.txt (line 4)) (0.1.4)\n",
      "Requirement already satisfied: isoduration in /usr/local/lib/python3.8/dist-packages (from jsonschema>=2.6->nbformat>=5.7.3->graphcore-cloud-tools[logger]@ git+https://github.com/graphcore/graphcore-cloud-tools@v0.3->-r requirements.txt (line 10)) (20.11.0)\n",
      "Requirement already satisfied: uri-template in /usr/local/lib/python3.8/dist-packages (from jsonschema>=2.6->nbformat>=5.7.3->graphcore-cloud-tools[logger]@ git+https://github.com/graphcore/graphcore-cloud-tools@v0.3->-r requirements.txt (line 10)) (1.3.0)\n",
      "Requirement already satisfied: jsonpointer>1.13 in /usr/local/lib/python3.8/dist-packages (from jsonschema>=2.6->nbformat>=5.7.3->graphcore-cloud-tools[logger]@ git+https://github.com/graphcore/graphcore-cloud-tools@v0.3->-r requirements.txt (line 10)) (2.4)\n",
      "Requirement already satisfied: fqdn in /usr/local/lib/python3.8/dist-packages (from jsonschema>=2.6->nbformat>=5.7.3->graphcore-cloud-tools[logger]@ git+https://github.com/graphcore/graphcore-cloud-tools@v0.3->-r requirements.txt (line 10)) (1.5.1)\n",
      "Requirement already satisfied: webcolors>=1.11 in /usr/local/lib/python3.8/dist-packages (from jsonschema>=2.6->nbformat>=5.7.3->graphcore-cloud-tools[logger]@ git+https://github.com/graphcore/graphcore-cloud-tools@v0.3->-r requirements.txt (line 10)) (1.13)\n",
      "Requirement already satisfied: arrow>=0.15.0 in /usr/local/lib/python3.8/dist-packages (from isoduration->jsonschema>=2.6->nbformat>=5.7.3->graphcore-cloud-tools[logger]@ git+https://github.com/graphcore/graphcore-cloud-tools@v0.3->-r requirements.txt (line 10)) (1.2.3)\n",
      "Installing collected packages: tokenizers, transformers\n",
      "  Attempting uninstall: tokenizers\n",
      "    Found existing installation: tokenizers 0.19.1\n",
      "    Uninstalling tokenizers-0.19.1:\n",
      "      Successfully uninstalled tokenizers-0.19.1\n",
      "  Attempting uninstall: transformers\n",
      "    Found existing installation: transformers 4.40.2\n",
      "    Uninstalling transformers-4.40.2:\n",
      "      Successfully uninstalled transformers-4.40.2\n",
      "Successfully installed tokenizers-0.10.3 transformers-4.10.2\n",
      "\n",
      "\u001b[1m[\u001b[0m\u001b[34;49mnotice\u001b[0m\u001b[1;39;49m]\u001b[0m\u001b[39;49m A new release of pip is available: \u001b[0m\u001b[31;49m23.0.1\u001b[0m\u001b[39;49m -> \u001b[0m\u001b[32;49m24.0\u001b[0m\n",
      "\u001b[1m[\u001b[0m\u001b[34;49mnotice\u001b[0m\u001b[1;39;49m]\u001b[0m\u001b[39;49m To update, run: \u001b[0m\u001b[32;49mpython3 -m pip install --upgrade pip\u001b[0m\n"
     ]
    }
   ],
   "source": [
    "!pip install -r requirements.txt"
   ]
  },
  {
   "cell_type": "code",
   "execution_count": 13,
   "id": "da7df653-4b49-4413-99b1-b0687c77c756",
   "metadata": {
    "tags": []
   },
   "outputs": [
    {
     "name": "stderr",
     "output_type": "stream",
     "text": [
      "huggingface/tokenizers: The current process just got forked, after parallelism has already been used. Disabling parallelism to avoid deadlocks...\n",
      "To disable this warning, you can either:\n",
      "\t- Avoid using `tokenizers` before the fork if possible\n",
      "\t- Explicitly set the environment variable TOKENIZERS_PARALLELISM=(true | false)\n"
     ]
    },
    {
     "name": "stdout",
     "output_type": "stream",
     "text": [
      "Defaulting to user installation because normal site-packages is not writeable\n",
      "Requirement already satisfied: datasets in /home/work/.local/lib/python3.8/site-packages (2.19.1)\n",
      "Requirement already satisfied: dill<0.3.9,>=0.3.0 in /home/work/.local/lib/python3.8/site-packages (from datasets) (0.3.8)\n",
      "Requirement already satisfied: pyarrow-hotfix in /home/work/.local/lib/python3.8/site-packages (from datasets) (0.6)\n",
      "Requirement already satisfied: pandas in /home/work/.local/lib/python3.8/site-packages (from datasets) (2.0.1)\n",
      "Requirement already satisfied: aiohttp in /usr/local/lib/python3.8/dist-packages (from datasets) (3.8.5)\n",
      "Requirement already satisfied: huggingface-hub>=0.21.2 in /home/work/.local/lib/python3.8/site-packages (from datasets) (0.23.0)\n",
      "Requirement already satisfied: pyyaml>=5.1 in /usr/local/lib/python3.8/dist-packages (from datasets) (6.0.1)\n",
      "Requirement already satisfied: filelock in /usr/local/lib/python3.8/dist-packages (from datasets) (3.12.2)\n",
      "Requirement already satisfied: requests>=2.19.0 in /usr/local/lib/python3.8/dist-packages (from datasets) (2.31.0)\n",
      "Requirement already satisfied: pyarrow>=12.0.0 in /home/work/.local/lib/python3.8/site-packages (from datasets) (16.0.0)\n",
      "Requirement already satisfied: numpy>=1.17 in /usr/local/lib/python3.8/dist-packages (from datasets) (1.24.4)\n",
      "Requirement already satisfied: multiprocess in /home/work/.local/lib/python3.8/site-packages (from datasets) (0.70.16)\n",
      "Requirement already satisfied: xxhash in /home/work/.local/lib/python3.8/site-packages (from datasets) (3.4.1)\n",
      "Requirement already satisfied: fsspec[http]<=2024.3.1,>=2023.1.0 in /usr/local/lib/python3.8/dist-packages (from datasets) (2023.6.0)\n",
      "Requirement already satisfied: tqdm>=4.62.1 in /usr/local/lib/python3.8/dist-packages (from datasets) (4.65.0)\n",
      "Requirement already satisfied: packaging in /usr/local/lib/python3.8/dist-packages (from datasets) (23.1)\n",
      "Requirement already satisfied: frozenlist>=1.1.1 in /usr/local/lib/python3.8/dist-packages (from aiohttp->datasets) (1.4.0)\n",
      "Requirement already satisfied: yarl<2.0,>=1.0 in /usr/local/lib/python3.8/dist-packages (from aiohttp->datasets) (1.9.2)\n",
      "Requirement already satisfied: async-timeout<5.0,>=4.0.0a3 in /usr/local/lib/python3.8/dist-packages (from aiohttp->datasets) (4.0.3)\n",
      "Requirement already satisfied: aiosignal>=1.1.2 in /usr/local/lib/python3.8/dist-packages (from aiohttp->datasets) (1.3.1)\n",
      "Requirement already satisfied: attrs>=17.3.0 in /usr/local/lib/python3.8/dist-packages (from aiohttp->datasets) (23.1.0)\n",
      "Requirement already satisfied: charset-normalizer<4.0,>=2.0 in /usr/local/lib/python3.8/dist-packages (from aiohttp->datasets) (3.2.0)\n",
      "Requirement already satisfied: multidict<7.0,>=4.5 in /usr/local/lib/python3.8/dist-packages (from aiohttp->datasets) (6.0.4)\n",
      "Requirement already satisfied: typing-extensions>=3.7.4.3 in /home/work/.local/lib/python3.8/site-packages (from huggingface-hub>=0.21.2->datasets) (4.1.1)\n",
      "Requirement already satisfied: certifi>=2017.4.17 in /usr/local/lib/python3.8/dist-packages (from requests>=2.19.0->datasets) (2023.7.22)\n",
      "Requirement already satisfied: idna<4,>=2.5 in /usr/local/lib/python3.8/dist-packages (from requests>=2.19.0->datasets) (3.4)\n",
      "Requirement already satisfied: urllib3<3,>=1.21.1 in /usr/local/lib/python3.8/dist-packages (from requests>=2.19.0->datasets) (1.26.16)\n",
      "Requirement already satisfied: pytz>=2020.1 in /usr/local/lib/python3.8/dist-packages (from pandas->datasets) (2023.3)\n",
      "Requirement already satisfied: tzdata>=2022.1 in /usr/local/lib/python3.8/dist-packages (from pandas->datasets) (2023.3)\n",
      "Requirement already satisfied: python-dateutil>=2.8.2 in /usr/local/lib/python3.8/dist-packages (from pandas->datasets) (2.8.2)\n",
      "Requirement already satisfied: six>=1.5 in /usr/local/lib/python3.8/dist-packages (from python-dateutil>=2.8.2->pandas->datasets) (1.16.0)\n",
      "\n",
      "\u001b[1m[\u001b[0m\u001b[34;49mnotice\u001b[0m\u001b[1;39;49m]\u001b[0m\u001b[39;49m A new release of pip is available: \u001b[0m\u001b[31;49m23.0.1\u001b[0m\u001b[39;49m -> \u001b[0m\u001b[32;49m24.0\u001b[0m\n",
      "\u001b[1m[\u001b[0m\u001b[34;49mnotice\u001b[0m\u001b[1;39;49m]\u001b[0m\u001b[39;49m To update, run: \u001b[0m\u001b[32;49mpython3 -m pip install --upgrade pip\u001b[0m\n"
     ]
    }
   ],
   "source": [
    "!pip install datasets"
   ]
  },
  {
   "cell_type": "code",
   "execution_count": 14,
   "id": "2cc3835f-226b-4f17-8f53-356269dd05f2",
   "metadata": {
    "tags": []
   },
   "outputs": [
    {
     "name": "stderr",
     "output_type": "stream",
     "text": [
      "huggingface/tokenizers: The current process just got forked, after parallelism has already been used. Disabling parallelism to avoid deadlocks...\n",
      "To disable this warning, you can either:\n",
      "\t- Avoid using `tokenizers` before the fork if possible\n",
      "\t- Explicitly set the environment variable TOKENIZERS_PARALLELISM=(true | false)\n"
     ]
    },
    {
     "name": "stdout",
     "output_type": "stream",
     "text": [
      "Defaulting to user installation because normal site-packages is not writeable\n",
      "Requirement already satisfied: transformers in /home/work/.local/lib/python3.8/site-packages (4.10.2)\n",
      "Collecting transformers\n",
      "  Using cached transformers-4.40.2-py3-none-any.whl (9.0 MB)\n",
      "Requirement already satisfied: regex!=2019.12.17 in /home/work/.local/lib/python3.8/site-packages (from transformers) (2024.4.28)\n",
      "Requirement already satisfied: pyyaml>=5.1 in /usr/local/lib/python3.8/dist-packages (from transformers) (6.0.1)\n",
      "Requirement already satisfied: requests in /usr/local/lib/python3.8/dist-packages (from transformers) (2.31.0)\n",
      "Requirement already satisfied: packaging>=20.0 in /usr/local/lib/python3.8/dist-packages (from transformers) (23.1)\n",
      "Requirement already satisfied: filelock in /usr/local/lib/python3.8/dist-packages (from transformers) (3.12.2)\n",
      "Collecting tokenizers<0.20,>=0.19\n",
      "  Using cached tokenizers-0.19.1-cp38-cp38-manylinux_2_17_x86_64.manylinux2014_x86_64.whl (3.6 MB)\n",
      "Requirement already satisfied: tqdm>=4.27 in /usr/local/lib/python3.8/dist-packages (from transformers) (4.65.0)\n",
      "Requirement already satisfied: huggingface-hub<1.0,>=0.19.3 in /home/work/.local/lib/python3.8/site-packages (from transformers) (0.23.0)\n",
      "Requirement already satisfied: safetensors>=0.4.1 in /home/work/.local/lib/python3.8/site-packages (from transformers) (0.4.3)\n",
      "Requirement already satisfied: numpy>=1.17 in /usr/local/lib/python3.8/dist-packages (from transformers) (1.24.4)\n",
      "Requirement already satisfied: typing-extensions>=3.7.4.3 in /home/work/.local/lib/python3.8/site-packages (from huggingface-hub<1.0,>=0.19.3->transformers) (4.1.1)\n",
      "Requirement already satisfied: fsspec>=2023.5.0 in /usr/local/lib/python3.8/dist-packages (from huggingface-hub<1.0,>=0.19.3->transformers) (2023.6.0)\n",
      "Requirement already satisfied: certifi>=2017.4.17 in /usr/local/lib/python3.8/dist-packages (from requests->transformers) (2023.7.22)\n",
      "Requirement already satisfied: charset-normalizer<4,>=2 in /usr/local/lib/python3.8/dist-packages (from requests->transformers) (3.2.0)\n",
      "Requirement already satisfied: idna<4,>=2.5 in /usr/local/lib/python3.8/dist-packages (from requests->transformers) (3.4)\n",
      "Requirement already satisfied: urllib3<3,>=1.21.1 in /usr/local/lib/python3.8/dist-packages (from requests->transformers) (1.26.16)\n",
      "Installing collected packages: tokenizers, transformers\n",
      "  Attempting uninstall: tokenizers\n",
      "    Found existing installation: tokenizers 0.10.3\n",
      "    Uninstalling tokenizers-0.10.3:\n",
      "      Successfully uninstalled tokenizers-0.10.3\n",
      "  Attempting uninstall: transformers\n",
      "    Found existing installation: transformers 4.10.2\n",
      "    Uninstalling transformers-4.10.2:\n",
      "      Successfully uninstalled transformers-4.10.2\n",
      "Successfully installed tokenizers-0.19.1 transformers-4.40.2\n",
      "\n",
      "\u001b[1m[\u001b[0m\u001b[34;49mnotice\u001b[0m\u001b[1;39;49m]\u001b[0m\u001b[39;49m A new release of pip is available: \u001b[0m\u001b[31;49m23.0.1\u001b[0m\u001b[39;49m -> \u001b[0m\u001b[32;49m24.0\u001b[0m\n",
      "\u001b[1m[\u001b[0m\u001b[34;49mnotice\u001b[0m\u001b[1;39;49m]\u001b[0m\u001b[39;49m To update, run: \u001b[0m\u001b[32;49mpython3 -m pip install --upgrade pip\u001b[0m\n"
     ]
    }
   ],
   "source": [
    "!pip install --upgrade transformers"
   ]
  },
  {
   "cell_type": "code",
   "execution_count": 15,
   "id": "143f1426-75c8-41ef-87c9-dc79cbb2ab7f",
   "metadata": {
    "tags": []
   },
   "outputs": [],
   "source": [
    "#Loading the Hugging Face Dataset\n",
    "from datasets import load_dataset\n",
    "\n",
    "dataset1 = load_dataset(\"shrms/nomal_bar\", split=\"train\")"
   ]
  },
  {
   "cell_type": "code",
   "execution_count": 16,
   "id": "d8765981-3b83-4906-8dd6-ef572863afc9",
   "metadata": {
    "tags": []
   },
   "outputs": [],
   "source": [
    "# 100 pieces of sample data for quick testing\n",
    "cnt = 0\n",
    "dataset = []\n",
    "for i in dataset1:\n",
    "    cnt+=1\n",
    "    dataset.append(i)\n",
    "    if cnt == 100:\n",
    "        break\n",
    "print(dataset[0][\"image_file\"]) #The image is stored in my local area\n",
    "print(dataset[0][\"text\"])"
   ]
  },
  {
   "cell_type": "code",
   "execution_count": 18,
   "id": "164539ea-6f4a-4494-af15-d8d560301a2d",
   "metadata": {
    "tags": []
   },
   "outputs": [],
   "source": [
    "from torch.utils.data import Dataset, DataLoader\n",
    "from PIL import Image\n",
    "\n",
    "MAX_PATCHES = 1024\n",
    "\n",
    "class ImageCaptioningDataset(Dataset):\n",
    "    def __init__(self, dataset, processor):\n",
    "        self.dataset = dataset\n",
    "        self.processor = processor\n",
    "\n",
    "    def __len__(self):\n",
    "        return len(self.dataset)\n",
    "\n",
    "    def __getitem__(self, idx):\n",
    "        item = self.dataset[idx]\n",
    "        image_path = item[\"image_file\"]\n",
    "        image_path = image_path + \".jpg\"\n",
    "        image = Image.open(image_path).convert(\"RGB\")\n",
    "\n",
    "        if image is not None:\n",
    "            encoding = self.processor(images=image,\n",
    "                                      text=\"Generate underlying data table of the figure below:\",\n",
    "                                      return_tensors=\"pt\",\n",
    "                                      add_special_tokens=True,\n",
    "                                      max_patches=MAX_PATCHES,\n",
    "                                      padding=True,\n",
    "                                      truncation=True)\n",
    "            encoding = {k: v.squeeze() for k, v in encoding.items()}\n",
    "            encoding[\"text\"] = item[\"text\"]\n",
    "            return encoding\n",
    "        \n",
    "        else:\n",
    "            print(\"Failed :\",image)\n",
    "            return None"
   ]
  },
  {
   "cell_type": "code",
   "execution_count": 19,
   "id": "ab7ceee6-9e5f-498d-aa67-77d4217bcda6",
   "metadata": {
    "tags": []
   },
   "outputs": [
    {
     "name": "stdout",
     "output_type": "stream",
     "text": [
      "호출 완료\n"
     ]
    }
   ],
   "source": [
    "# Get a great model\n",
    "\n",
    "from transformers import AutoProcessor, Pix2StructForConditionalGeneration\n",
    "import poptorch\n",
    "\n",
    "# The model size changes during this process.. (layer replicated)\n",
    "processor = AutoProcessor.from_pretrained(\"google/deplot\")\n",
    "model_me = Pix2StructForConditionalGeneration.from_pretrained(\"google/deplot\")\n",
    "\n",
    "\n",
    "# Optimized for IPU\n",
    "opts = poptorch.Options()\n",
    "opts.deviceIterations(1)\n",
    "optimizer = poptorch.optim.SGD(model_me.parameters(), lr=1e-5, momentum=0.9, weight_decay=1e-5)\n",
    "model = poptorch.trainingModel(model=model_me, options=opts, optimizer=optimizer)\n",
    "\n",
    "print(\"Call successful\")"
   ]
  },
  {
   "cell_type": "code",
   "execution_count": 20,
   "id": "2d22bd0a-67ed-4368-b3c2-b1ca4008408f",
   "metadata": {
    "tags": []
   },
   "outputs": [],
   "source": [
    "def collator(batch):\n",
    "    new_batch = {\"flattened_patches\": [], \"attention_mask\": []}\n",
    "    texts = [item[\"text\"] for item in batch]\n",
    "    \n",
    "    text_inputs = processor.tokenizer(text=texts,\n",
    "                                      return_tensors=\"pt\",\n",
    "                                      add_special_tokens=True,\n",
    "                                      max_length=512, \n",
    "                                      padding=True,\n",
    "                                      truncation=True)\n",
    "    new_batch[\"labels\"] = text_inputs.input_ids\n",
    "\n",
    "    for item in batch:\n",
    "        new_batch[\"flattened_patches\"].append(item[\"flattened_patches\"])\n",
    "        new_batch[\"attention_mask\"].append(item[\"attention_mask\"])\n",
    "    \n",
    "    new_batch[\"flattened_patches\"] = torch.stack(new_batch[\"flattened_patches\"])\n",
    "    new_batch[\"attention_mask\"] = torch.stack(new_batch[\"attention_mask\"])\n",
    "    return new_batch"
   ]
  },
  {
   "cell_type": "code",
   "execution_count": 21,
   "id": "be71a1f2-3573-4daf-aec2-0348661d0868",
   "metadata": {
    "tags": []
   },
   "outputs": [],
   "source": [
    "train_dataset = ImageCaptioningDataset(dataset, processor)\n",
    "train_dataloader = poptorch.DataLoader(dataset=train_dataset, options=opts, shuffle=True, batch_size=1, collate_fn=collator)\n",
    "#Even if you adjust the batch size to 1, the kernel will die\n",
    "#I think the replication of the model structure increases the amount of memory required, and so the kernel dies"
   ]
  },
  {
   "cell_type": "code",
   "execution_count": null,
   "id": "161b3bc1",
   "metadata": {},
   "outputs": [],
   "source": [
    "# Create Model Storage Location\n",
    "modeltarget = \"save_model_1\"\n",
    "\n",
    "import os\n",
    "os.makedirs(\"./model/\"+modeltarget, exist_ok=True)\n",
    "\n",
    "limit = 5000"
   ]
  },
  {
   "cell_type": "code",
   "execution_count": null,
   "id": "b18be1da-126c-4a04-9d80-9e19b6b238a4",
   "metadata": {
    "tags": []
   },
   "outputs": [],
   "source": [
    "import torch\n",
    "EPOCHS = 10\n",
    "\n",
    "# model_me.train()\n",
    "for epoch in range(EPOCHS):\n",
    "    print(\"Epoch:\", epoch)\n",
    "    \n",
    "    model.train()\n",
    "    processor.image_processor.is_vqa = False\n",
    "    for idx, batch in enumerate(train_dataloader):\n",
    "        flattened_patches = batch.pop(\"flattened_patches\").to(torch.float32)\n",
    "        attention_mask = batch.pop(\"attention_mask\").to(torch.float32)\n",
    "        labels = batch.pop(\"labels\").to(torch.int32)\n",
    "\n",
    "        outputs = model(flattened_patches=flattened_patches,\n",
    "                        attention_mask=attention_mask,\n",
    "                        labels=labels)\n",
    "        \n",
    "        loss = outputs.loss\n",
    "        \n",
    "        print(\"Loss:\", loss.item())\n",
    "        \n",
    "        optimizer.zero_grad()\n",
    "        loss.backward()\n",
    "        optimizer.step()\n",
    "        \n",
    "        if (epoch + 1) % 20 == 0:\n",
    "            model_me.eval()\n",
    "        \n",
    "            predictions = model.generate(flattened_patches=flattened_patches, attention_mask=attention_mask)        \n",
    "            print(\"Predictions:\", processor.batch_decode(predictions, skip_special_tokens=True))\n",
    "        \n",
    "            model.train()\n",
    "        \n",
    "model.save_pretrained(\"./model/\"+modeltarget)\n",
    "torch.save(model.state_dict(), \"./model/\"+modeltarget+\"/model.pt\")"
   ]
  },
  {
   "cell_type": "code",
   "execution_count": null,
   "id": "598a3566-814b-4104-9b47-ad43d8948e7b",
   "metadata": {
    "tags": []
   },
   "outputs": [],
   "source": []
  },
  {
   "cell_type": "code",
   "execution_count": null,
   "id": "ada009fb",
   "metadata": {},
   "outputs": [],
   "source": []
  },
  {
   "cell_type": "code",
   "execution_count": null,
   "id": "0a6423b8-534d-4797-97b2-3e4cb836402d",
   "metadata": {},
   "outputs": [],
   "source": []
  }
 ],
 "metadata": {
  "kernelspec": {
   "display_name": "PyTorch 1.3.0 on Python 3.8 (Poplar 3.2)",
   "language": "python",
   "name": "python3"
  },
  "language_info": {
   "codemirror_mode": {
    "name": "ipython",
    "version": 3
   },
   "file_extension": ".py",
   "mimetype": "text/x-python",
   "name": "python",
   "nbconvert_exporter": "python",
   "pygments_lexer": "ipython3",
   "version": "3.8.10"
  }
 },
 "nbformat": 4,
 "nbformat_minor": 5
}
